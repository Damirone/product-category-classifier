{
 "cells": [
  {
   "cell_type": "markdown",
   "id": "9ac6b874-6c97-4499-9e89-1a5fef39c05b",
   "metadata": {},
   "source": [
    "# 1. Ucitavanje podataka"
   ]
  },
  {
   "cell_type": "code",
   "execution_count": 1,
   "id": "8da7f971-3fdb-4cf0-bdb1-bb2b075e48b8",
   "metadata": {},
   "outputs": [
    {
     "data": {
      "text/html": [
       "<div>\n",
       "<style scoped>\n",
       "    .dataframe tbody tr th:only-of-type {\n",
       "        vertical-align: middle;\n",
       "    }\n",
       "\n",
       "    .dataframe tbody tr th {\n",
       "        vertical-align: top;\n",
       "    }\n",
       "\n",
       "    .dataframe thead th {\n",
       "        text-align: right;\n",
       "    }\n",
       "</style>\n",
       "<table border=\"1\" class=\"dataframe\">\n",
       "  <thead>\n",
       "    <tr style=\"text-align: right;\">\n",
       "      <th></th>\n",
       "      <th>product ID</th>\n",
       "      <th>Product Title</th>\n",
       "      <th>Merchant ID</th>\n",
       "      <th>Category Label</th>\n",
       "      <th>_Product Code</th>\n",
       "      <th>Number_of_Views</th>\n",
       "      <th>Merchant Rating</th>\n",
       "      <th>Listing Date</th>\n",
       "    </tr>\n",
       "  </thead>\n",
       "  <tbody>\n",
       "    <tr>\n",
       "      <th>0</th>\n",
       "      <td>1</td>\n",
       "      <td>apple iphone 8 plus 64gb silver</td>\n",
       "      <td>1</td>\n",
       "      <td>Mobile Phones</td>\n",
       "      <td>QA-2276-XC</td>\n",
       "      <td>860.0</td>\n",
       "      <td>2.5</td>\n",
       "      <td>5/10/2024</td>\n",
       "    </tr>\n",
       "    <tr>\n",
       "      <th>1</th>\n",
       "      <td>2</td>\n",
       "      <td>apple iphone 8 plus 64 gb spacegrau</td>\n",
       "      <td>2</td>\n",
       "      <td>Mobile Phones</td>\n",
       "      <td>KA-2501-QO</td>\n",
       "      <td>3772.0</td>\n",
       "      <td>4.8</td>\n",
       "      <td>12/31/2024</td>\n",
       "    </tr>\n",
       "    <tr>\n",
       "      <th>2</th>\n",
       "      <td>3</td>\n",
       "      <td>apple mq8n2b/a iphone 8 plus 64gb 5.5 12mp sim...</td>\n",
       "      <td>3</td>\n",
       "      <td>Mobile Phones</td>\n",
       "      <td>FP-8086-IE</td>\n",
       "      <td>3092.0</td>\n",
       "      <td>3.9</td>\n",
       "      <td>11/10/2024</td>\n",
       "    </tr>\n",
       "    <tr>\n",
       "      <th>3</th>\n",
       "      <td>4</td>\n",
       "      <td>apple iphone 8 plus 64gb space grey</td>\n",
       "      <td>4</td>\n",
       "      <td>Mobile Phones</td>\n",
       "      <td>YI-0086-US</td>\n",
       "      <td>466.0</td>\n",
       "      <td>3.4</td>\n",
       "      <td>5/2/2022</td>\n",
       "    </tr>\n",
       "    <tr>\n",
       "      <th>4</th>\n",
       "      <td>5</td>\n",
       "      <td>apple iphone 8 plus gold 5.5 64gb 4g unlocked ...</td>\n",
       "      <td>5</td>\n",
       "      <td>Mobile Phones</td>\n",
       "      <td>NZ-3586-WP</td>\n",
       "      <td>4426.0</td>\n",
       "      <td>1.6</td>\n",
       "      <td>4/12/2023</td>\n",
       "    </tr>\n",
       "  </tbody>\n",
       "</table>\n",
       "</div>"
      ],
      "text/plain": [
       "   product ID                                      Product Title  Merchant ID  \\\n",
       "0           1                    apple iphone 8 plus 64gb silver            1   \n",
       "1           2                apple iphone 8 plus 64 gb spacegrau            2   \n",
       "2           3  apple mq8n2b/a iphone 8 plus 64gb 5.5 12mp sim...            3   \n",
       "3           4                apple iphone 8 plus 64gb space grey            4   \n",
       "4           5  apple iphone 8 plus gold 5.5 64gb 4g unlocked ...            5   \n",
       "\n",
       "   Category Label _Product Code  Number_of_Views  Merchant Rating  \\\n",
       "0   Mobile Phones    QA-2276-XC            860.0              2.5   \n",
       "1   Mobile Phones    KA-2501-QO           3772.0              4.8   \n",
       "2   Mobile Phones    FP-8086-IE           3092.0              3.9   \n",
       "3   Mobile Phones    YI-0086-US            466.0              3.4   \n",
       "4   Mobile Phones    NZ-3586-WP           4426.0              1.6   \n",
       "\n",
       "   Listing Date    \n",
       "0       5/10/2024  \n",
       "1      12/31/2024  \n",
       "2      11/10/2024  \n",
       "3        5/2/2022  \n",
       "4       4/12/2023  "
      ]
     },
     "execution_count": 1,
     "metadata": {},
     "output_type": "execute_result"
    }
   ],
   "source": [
    "import pandas as pd\n",
    "import numpy as np\n",
    "import re\n",
    "\n",
    "pd.set_option('display.max_columns', None)\n",
    "\n",
    "df = pd.read_csv('data/products.csv')\n",
    "\n",
    "df.head()"
   ]
  },
  {
   "cell_type": "markdown",
   "id": "746a8873-151e-4bde-b58f-d2bcb17980b1",
   "metadata": {},
   "source": [
    "# 2. Osnovni pregled i provera nedostajućih vrednosti"
   ]
  },
  {
   "cell_type": "code",
   "execution_count": 2,
   "id": "84a5e563-fb5b-4425-8203-a71edfc15ce9",
   "metadata": {},
   "outputs": [
    {
     "name": "stdout",
     "output_type": "stream",
     "text": [
      "<class 'pandas.core.frame.DataFrame'>\n",
      "RangeIndex: 35311 entries, 0 to 35310\n",
      "Data columns (total 8 columns):\n",
      " #   Column           Non-Null Count  Dtype  \n",
      "---  ------           --------------  -----  \n",
      " 0   product ID       35311 non-null  int64  \n",
      " 1   Product Title    35139 non-null  object \n",
      " 2   Merchant ID      35311 non-null  int64  \n",
      " 3    Category Label  35267 non-null  object \n",
      " 4   _Product Code    35216 non-null  object \n",
      " 5   Number_of_Views  35297 non-null  float64\n",
      " 6   Merchant Rating  35141 non-null  float64\n",
      " 7    Listing Date    35252 non-null  object \n",
      "dtypes: float64(2), int64(2), object(4)\n",
      "memory usage: 2.2+ MB\n"
     ]
    },
    {
     "data": {
      "text/plain": [
       "product ID           0\n",
       "Product Title      172\n",
       "Merchant ID          0\n",
       " Category Label     44\n",
       "_Product Code       95\n",
       "Number_of_Views     14\n",
       "Merchant Rating    170\n",
       " Listing Date       59\n",
       "dtype: int64"
      ]
     },
     "execution_count": 2,
     "metadata": {},
     "output_type": "execute_result"
    }
   ],
   "source": [
    "df.info()\n",
    "df.isnull().sum()"
   ]
  },
  {
   "cell_type": "markdown",
   "id": "193a17fa-2bc5-4b28-8497-ce63907101ae",
   "metadata": {},
   "source": [
    "# 3. Pregled kategorija i njihov broj"
   ]
  },
  {
   "cell_type": "code",
   "execution_count": 3,
   "id": "ce4c818b-cad3-420c-9699-419786970369",
   "metadata": {},
   "outputs": [
    {
     "name": "stdout",
     "output_type": "stream",
     "text": [
      "Broj unikatnih kategorija: 13\n"
     ]
    },
    {
     "data": {
      "text/plain": [
       "Fridge Freezers     5495\n",
       "Washing Machines    4036\n",
       "Mobile Phones       4020\n",
       "CPUs                3771\n",
       "TVs                 3564\n",
       "Fridges             3457\n",
       "Dishwashers         3418\n",
       "Digital Cameras     2696\n",
       "Microwaves          2338\n",
       "Freezers            2210\n",
       "fridge               123\n",
       "CPU                   84\n",
       "Mobile Phone          55\n",
       "Name:  Category Label, dtype: int64"
      ]
     },
     "execution_count": 3,
     "metadata": {},
     "output_type": "execute_result"
    }
   ],
   "source": [
    "print(f\"Broj unikatnih kategorija: {df[' Category Label'].nunique()}\")\n",
    "df[' Category Label'].value_counts().head(15)"
   ]
  },
  {
   "cell_type": "markdown",
   "id": "c2708845-f622-4df8-9358-7561528baf09",
   "metadata": {},
   "source": [
    "# 4. Ciscenje podatka"
   ]
  },
  {
   "cell_type": "code",
   "execution_count": 4,
   "id": "def08025-ff8f-4823-adba-dc4ea6706b2a",
   "metadata": {},
   "outputs": [
    {
     "data": {
      "text/html": [
       "<div>\n",
       "<style scoped>\n",
       "    .dataframe tbody tr th:only-of-type {\n",
       "        vertical-align: middle;\n",
       "    }\n",
       "\n",
       "    .dataframe tbody tr th {\n",
       "        vertical-align: top;\n",
       "    }\n",
       "\n",
       "    .dataframe thead th {\n",
       "        text-align: right;\n",
       "    }\n",
       "</style>\n",
       "<table border=\"1\" class=\"dataframe\">\n",
       "  <thead>\n",
       "    <tr style=\"text-align: right;\">\n",
       "      <th></th>\n",
       "      <th>product ID</th>\n",
       "      <th>Product Title</th>\n",
       "      <th>Merchant ID</th>\n",
       "      <th>Category Label</th>\n",
       "      <th>_Product Code</th>\n",
       "      <th>Number_of_Views</th>\n",
       "      <th>Merchant Rating</th>\n",
       "      <th>Listing Date</th>\n",
       "    </tr>\n",
       "  </thead>\n",
       "  <tbody>\n",
       "    <tr>\n",
       "      <th>0</th>\n",
       "      <td>1</td>\n",
       "      <td>apple iphone 8 plus 64gb silver</td>\n",
       "      <td>1</td>\n",
       "      <td>Mobile Phones</td>\n",
       "      <td>QA-2276-XC</td>\n",
       "      <td>860.0</td>\n",
       "      <td>2.5</td>\n",
       "      <td>5/10/2024</td>\n",
       "    </tr>\n",
       "    <tr>\n",
       "      <th>1</th>\n",
       "      <td>2</td>\n",
       "      <td>apple iphone 8 plus 64 gb spacegrau</td>\n",
       "      <td>2</td>\n",
       "      <td>Mobile Phones</td>\n",
       "      <td>KA-2501-QO</td>\n",
       "      <td>3772.0</td>\n",
       "      <td>4.8</td>\n",
       "      <td>12/31/2024</td>\n",
       "    </tr>\n",
       "    <tr>\n",
       "      <th>2</th>\n",
       "      <td>3</td>\n",
       "      <td>apple mq8n2ba iphone 8 plus 64gb 55 12mp sim f...</td>\n",
       "      <td>3</td>\n",
       "      <td>Mobile Phones</td>\n",
       "      <td>FP-8086-IE</td>\n",
       "      <td>3092.0</td>\n",
       "      <td>3.9</td>\n",
       "      <td>11/10/2024</td>\n",
       "    </tr>\n",
       "    <tr>\n",
       "      <th>3</th>\n",
       "      <td>4</td>\n",
       "      <td>apple iphone 8 plus 64gb space grey</td>\n",
       "      <td>4</td>\n",
       "      <td>Mobile Phones</td>\n",
       "      <td>YI-0086-US</td>\n",
       "      <td>466.0</td>\n",
       "      <td>3.4</td>\n",
       "      <td>5/2/2022</td>\n",
       "    </tr>\n",
       "    <tr>\n",
       "      <th>4</th>\n",
       "      <td>5</td>\n",
       "      <td>apple iphone 8 plus gold 55 64gb 4g unlocked s...</td>\n",
       "      <td>5</td>\n",
       "      <td>Mobile Phones</td>\n",
       "      <td>NZ-3586-WP</td>\n",
       "      <td>4426.0</td>\n",
       "      <td>1.6</td>\n",
       "      <td>4/12/2023</td>\n",
       "    </tr>\n",
       "  </tbody>\n",
       "</table>\n",
       "</div>"
      ],
      "text/plain": [
       "   product ID                                      Product Title  Merchant ID  \\\n",
       "0           1                    apple iphone 8 plus 64gb silver            1   \n",
       "1           2                apple iphone 8 plus 64 gb spacegrau            2   \n",
       "2           3  apple mq8n2ba iphone 8 plus 64gb 55 12mp sim f...            3   \n",
       "3           4                apple iphone 8 plus 64gb space grey            4   \n",
       "4           5  apple iphone 8 plus gold 55 64gb 4g unlocked s...            5   \n",
       "\n",
       "  Category Label _Product Code  Number_of_Views  Merchant Rating Listing Date  \n",
       "0  Mobile Phones    QA-2276-XC            860.0              2.5    5/10/2024  \n",
       "1  Mobile Phones    KA-2501-QO           3772.0              4.8   12/31/2024  \n",
       "2  Mobile Phones    FP-8086-IE           3092.0              3.9   11/10/2024  \n",
       "3  Mobile Phones    YI-0086-US            466.0              3.4     5/2/2022  \n",
       "4  Mobile Phones    NZ-3586-WP           4426.0              1.6    4/12/2023  "
      ]
     },
     "execution_count": 4,
     "metadata": {},
     "output_type": "execute_result"
    }
   ],
   "source": [
    "df.columns = df.columns.str.strip()\n",
    "\n",
    "df_clean = df.dropna(subset=['Product Title', 'Category Label']).copy()\n",
    "\n",
    "\n",
    "df_clean['Product Title'] = df_clean['Product Title'].str.lower()\n",
    "\n",
    "df_clean['Product Title'] = df_clean['Product Title'].apply(lambda x: re.sub(r'[^a-z0-9\\s]', '', str(x)))\n",
    "\n",
    "df_clean['Product Title'] = df_clean['Product Title'].str.replace(r'\\s+', ' ', regex=True).str.strip()\n",
    "\n",
    "df_clean['Category Label'] = df_clean['Category Label'].str.strip()\n",
    "\n",
    "df_clean.head()"
   ]
  },
  {
   "cell_type": "markdown",
   "id": "fcb4a832-a85c-4241-8f84-a63108f2ecd0",
   "metadata": {},
   "source": [
    "# 5. Provjera ociscenih podataka"
   ]
  },
  {
   "cell_type": "code",
   "execution_count": 5,
   "id": "cfdebffa-07fd-4520-81bf-5209e2639bfb",
   "metadata": {},
   "outputs": [
    {
     "name": "stdout",
     "output_type": "stream",
     "text": [
      "<class 'pandas.core.frame.DataFrame'>\n",
      "Int64Index: 35096 entries, 0 to 35310\n",
      "Data columns (total 8 columns):\n",
      " #   Column           Non-Null Count  Dtype  \n",
      "---  ------           --------------  -----  \n",
      " 0   product ID       35096 non-null  int64  \n",
      " 1   Product Title    35096 non-null  object \n",
      " 2   Merchant ID      35096 non-null  int64  \n",
      " 3   Category Label   35096 non-null  object \n",
      " 4   _Product Code    35002 non-null  object \n",
      " 5   Number_of_Views  35082 non-null  float64\n",
      " 6   Merchant Rating  34926 non-null  float64\n",
      " 7   Listing Date     35038 non-null  object \n",
      "dtypes: float64(2), int64(2), object(4)\n",
      "memory usage: 2.4+ MB\n"
     ]
    },
    {
     "data": {
      "text/plain": [
       "product ID           0\n",
       "Product Title        0\n",
       "Merchant ID          0\n",
       "Category Label       0\n",
       "_Product Code       94\n",
       "Number_of_Views     14\n",
       "Merchant Rating    170\n",
       "Listing Date        58\n",
       "dtype: int64"
      ]
     },
     "execution_count": 5,
     "metadata": {},
     "output_type": "execute_result"
    }
   ],
   "source": [
    "df_clean.info()\n",
    "df_clean.isnull().sum()\n"
   ]
  },
  {
   "cell_type": "markdown",
   "id": "3a8a9d60-7d1b-4012-a371-920e486371c5",
   "metadata": {},
   "source": [
    "# 6. Feature engineering"
   ]
  },
  {
   "cell_type": "code",
   "execution_count": 6,
   "id": "ed7658b4-0cf0-405e-ab91-fe94d099080b",
   "metadata": {},
   "outputs": [],
   "source": [
    "df = df.dropna(subset=['Product Title'])"
   ]
  },
  {
   "cell_type": "code",
   "execution_count": 7,
   "id": "92ddd897-3319-453f-90f4-56f435447630",
   "metadata": {},
   "outputs": [
    {
     "name": "stdout",
     "output_type": "stream",
     "text": [
      "                                       Product Title  title_length  \\\n",
      "0                    apple iphone 8 plus 64gb silver            31   \n",
      "1                apple iphone 8 plus 64 gb spacegrau            35   \n",
      "2  apple mq8n2b/a iphone 8 plus 64gb 5.5 12mp sim...            70   \n",
      "3                apple iphone 8 plus 64gb space grey            35   \n",
      "4  apple iphone 8 plus gold 5.5 64gb 4g unlocked ...            54   \n",
      "\n",
      "   title_word_count  title_contains_digit  title_digit_count  \n",
      "0                 6                     1                  3  \n",
      "1                 7                     1                  3  \n",
      "2                13                     1                  9  \n",
      "3                 7                     1                  3  \n",
      "4                11                     1                  6  \n"
     ]
    }
   ],
   "source": [
    "df['title_length'] = df['Product Title'].apply(len)\n",
    "df['title_word_count'] = df['Product Title'].apply(lambda x: len(x.split()))\n",
    "df['title_contains_digit'] = df['Product Title'].apply(lambda x: int(any(char.isdigit() for char in x)))\n",
    "df['title_digit_count'] = df['Product Title'].apply(lambda x: sum(char.isdigit() for char in x))\n",
    "\n",
    "# Primer pregleda novih kolona\n",
    "print(df[['Product Title', 'title_length', 'title_word_count', 'title_contains_digit', 'title_digit_count']].head())"
   ]
  },
  {
   "cell_type": "markdown",
   "id": "2e2ecff9-4d83-4aba-82a4-227a6b8606f8",
   "metadata": {},
   "source": [
    "# 7. Priprema podataka za trening i test set"
   ]
  },
  {
   "cell_type": "code",
   "execution_count": 15,
   "id": "c1570473-9255-41b5-b533-60d7fd6187dd",
   "metadata": {},
   "outputs": [],
   "source": [
    "df['Number_of_Views'] = df['Number_of_Views'].fillna(df['Number_of_Views'].mean())\n",
    "df['Merchant Rating'] = df['Merchant Rating'].fillna(df['Merchant Rating'].mean())\n",
    "df['_Product Code'] = df['_Product Code'].fillna('unknown')\n",
    "df['Product Title'] = df['Product Title'].fillna('unknown')\n",
    "df['Category Label'] = df['Category Label'].fillna('Other')\n"
   ]
  },
  {
   "cell_type": "code",
   "execution_count": 16,
   "id": "956ecde7-7705-47dd-86cd-02b39db538ef",
   "metadata": {},
   "outputs": [],
   "source": [
    "y = df['Category Label']"
   ]
  },
  {
   "cell_type": "code",
   "execution_count": 21,
   "id": "c6bf01b8-88a9-4093-987d-25452b841cdc",
   "metadata": {},
   "outputs": [],
   "source": [
    "from sklearn.preprocessing import LabelEncoder\n",
    "\n",
    "le = LabelEncoder()\n",
    "y = le.fit_transform(y)\n"
   ]
  },
  {
   "cell_type": "code",
   "execution_count": 17,
   "id": "3b55fb78-4954-40b2-b3ea-422d2b69ee82",
   "metadata": {},
   "outputs": [],
   "source": [
    "X = df['Product Title'].fillna('')  "
   ]
  },
  {
   "cell_type": "code",
   "execution_count": 18,
   "id": "ef236737-4552-4f96-a161-6b034a71fbb3",
   "metadata": {},
   "outputs": [],
   "source": [
    "from sklearn.feature_extraction.text import TfidfVectorizer\n",
    "\n",
    "vectorizer = TfidfVectorizer(max_features=5000, ngram_range=(1, 2))\n",
    "X_vectorized = vectorizer.fit_transform(X)\n"
   ]
  },
  {
   "cell_type": "code",
   "execution_count": 19,
   "id": "0888e350-d99a-4a87-9357-6ff31877502f",
   "metadata": {},
   "outputs": [],
   "source": [
    "from sklearn.model_selection import train_test_split\n",
    "\n",
    "X_train, X_test, y_train, y_test = train_test_split(\n",
    "    X_vectorized, y, test_size=0.2, random_state=42, stratify=y\n",
    ")\n"
   ]
  },
  {
   "cell_type": "code",
   "execution_count": 22,
   "id": "e6d024a5-a637-4b64-91ee-63ffc788357b",
   "metadata": {},
   "outputs": [
    {
     "name": "stdout",
     "output_type": "stream",
     "text": [
      "\n",
      "Model: Logistic Regression\n"
     ]
    },
    {
     "name": "stderr",
     "output_type": "stream",
     "text": [
      "C:\\Users\\lamij\\anaconda3\\lib\\site-packages\\sklearn\\metrics\\_classification.py:1248: UndefinedMetricWarning: Precision and F-score are ill-defined and being set to 0.0 in labels with no predicted samples. Use `zero_division` parameter to control this behavior.\n",
      "  _warn_prf(average, modifier, msg_start, len(result))\n",
      "C:\\Users\\lamij\\anaconda3\\lib\\site-packages\\sklearn\\metrics\\_classification.py:1248: UndefinedMetricWarning: Precision and F-score are ill-defined and being set to 0.0 in labels with no predicted samples. Use `zero_division` parameter to control this behavior.\n",
      "  _warn_prf(average, modifier, msg_start, len(result))\n",
      "C:\\Users\\lamij\\anaconda3\\lib\\site-packages\\sklearn\\metrics\\_classification.py:1248: UndefinedMetricWarning: Precision and F-score are ill-defined and being set to 0.0 in labels with no predicted samples. Use `zero_division` parameter to control this behavior.\n",
      "  _warn_prf(average, modifier, msg_start, len(result))\n"
     ]
    },
    {
     "name": "stdout",
     "output_type": "stream",
     "text": [
      "                  precision    recall  f1-score   support\n",
      "\n",
      "             CPU       0.00      0.00      0.00        17\n",
      "            CPUs       0.98      1.00      0.99       749\n",
      " Digital Cameras       0.99      0.99      0.99       538\n",
      "     Dishwashers       0.94      0.95      0.94       681\n",
      "        Freezers       0.98      0.91      0.94       440\n",
      " Fridge Freezers       0.92      0.94      0.93      1094\n",
      "         Fridges       0.87      0.88      0.88       687\n",
      "      Microwaves       0.98      0.95      0.97       466\n",
      "    Mobile Phone       0.00      0.00      0.00        11\n",
      "   Mobile Phones       0.95      0.99      0.97       801\n",
      "             TVs       0.98      0.99      0.98       708\n",
      "Washing Machines       0.95      0.95      0.95       803\n",
      "          fridge       0.00      0.00      0.00        25\n",
      "\n",
      "        accuracy                           0.95      7020\n",
      "       macro avg       0.73      0.74      0.73      7020\n",
      "    weighted avg       0.94      0.95      0.95      7020\n",
      "\n",
      "\n",
      "Model: Multinomial NB\n"
     ]
    },
    {
     "name": "stderr",
     "output_type": "stream",
     "text": [
      "C:\\Users\\lamij\\anaconda3\\lib\\site-packages\\sklearn\\metrics\\_classification.py:1248: UndefinedMetricWarning: Precision and F-score are ill-defined and being set to 0.0 in labels with no predicted samples. Use `zero_division` parameter to control this behavior.\n",
      "  _warn_prf(average, modifier, msg_start, len(result))\n",
      "C:\\Users\\lamij\\anaconda3\\lib\\site-packages\\sklearn\\metrics\\_classification.py:1248: UndefinedMetricWarning: Precision and F-score are ill-defined and being set to 0.0 in labels with no predicted samples. Use `zero_division` parameter to control this behavior.\n",
      "  _warn_prf(average, modifier, msg_start, len(result))\n",
      "C:\\Users\\lamij\\anaconda3\\lib\\site-packages\\sklearn\\metrics\\_classification.py:1248: UndefinedMetricWarning: Precision and F-score are ill-defined and being set to 0.0 in labels with no predicted samples. Use `zero_division` parameter to control this behavior.\n",
      "  _warn_prf(average, modifier, msg_start, len(result))\n"
     ]
    },
    {
     "name": "stdout",
     "output_type": "stream",
     "text": [
      "                  precision    recall  f1-score   support\n",
      "\n",
      "             CPU       0.00      0.00      0.00        17\n",
      "            CPUs       0.98      1.00      0.99       749\n",
      " Digital Cameras       0.99      0.99      0.99       538\n",
      "     Dishwashers       0.97      0.92      0.94       681\n",
      "        Freezers       0.98      0.77      0.86       440\n",
      " Fridge Freezers       0.81      0.95      0.87      1094\n",
      "         Fridges       0.86      0.84      0.85       687\n",
      "      Microwaves       0.98      0.95      0.97       466\n",
      "    Mobile Phone       0.00      0.00      0.00        11\n",
      "   Mobile Phones       0.98      0.99      0.98       801\n",
      "             TVs       0.98      0.99      0.99       708\n",
      "Washing Machines       0.96      0.94      0.95       803\n",
      "          fridge       0.00      0.00      0.00        25\n",
      "\n",
      "        accuracy                           0.93      7020\n",
      "       macro avg       0.73      0.72      0.72      7020\n",
      "    weighted avg       0.93      0.93      0.93      7020\n",
      "\n",
      "\n",
      "Model: Linear SVC\n",
      "                  precision    recall  f1-score   support\n",
      "\n",
      "             CPU       0.00      0.00      0.00        17\n",
      "            CPUs       0.98      1.00      0.99       749\n",
      " Digital Cameras       0.99      0.99      0.99       538\n",
      "     Dishwashers       0.93      0.96      0.95       681\n",
      "        Freezers       0.97      0.92      0.94       440\n",
      " Fridge Freezers       0.93      0.94      0.94      1094\n",
      "         Fridges       0.87      0.88      0.88       687\n",
      "      Microwaves       0.99      0.96      0.97       466\n",
      "    Mobile Phone       0.00      0.00      0.00        11\n",
      "   Mobile Phones       0.96      0.99      0.98       801\n",
      "             TVs       0.97      0.99      0.98       708\n",
      "Washing Machines       0.95      0.95      0.95       803\n",
      "          fridge       0.00      0.00      0.00        25\n",
      "\n",
      "        accuracy                           0.95      7020\n",
      "       macro avg       0.73      0.74      0.74      7020\n",
      "    weighted avg       0.94      0.95      0.95      7020\n",
      "\n"
     ]
    },
    {
     "name": "stderr",
     "output_type": "stream",
     "text": [
      "C:\\Users\\lamij\\anaconda3\\lib\\site-packages\\sklearn\\metrics\\_classification.py:1248: UndefinedMetricWarning: Precision and F-score are ill-defined and being set to 0.0 in labels with no predicted samples. Use `zero_division` parameter to control this behavior.\n",
      "  _warn_prf(average, modifier, msg_start, len(result))\n",
      "C:\\Users\\lamij\\anaconda3\\lib\\site-packages\\sklearn\\metrics\\_classification.py:1248: UndefinedMetricWarning: Precision and F-score are ill-defined and being set to 0.0 in labels with no predicted samples. Use `zero_division` parameter to control this behavior.\n",
      "  _warn_prf(average, modifier, msg_start, len(result))\n",
      "C:\\Users\\lamij\\anaconda3\\lib\\site-packages\\sklearn\\metrics\\_classification.py:1248: UndefinedMetricWarning: Precision and F-score are ill-defined and being set to 0.0 in labels with no predicted samples. Use `zero_division` parameter to control this behavior.\n",
      "  _warn_prf(average, modifier, msg_start, len(result))\n"
     ]
    }
   ],
   "source": [
    "from sklearn.linear_model import LogisticRegression\n",
    "from sklearn.naive_bayes import MultinomialNB\n",
    "from sklearn.ensemble import RandomForestClassifier\n",
    "from sklearn.svm import LinearSVC\n",
    "from sklearn.metrics import classification_report\n",
    "\n",
    "models = {\n",
    "    \"Logistic Regression\": LogisticRegression(max_iter=1000),\n",
    "    \"Multinomial NB\": MultinomialNB(),\n",
    "    \"Linear SVC\": LinearSVC(),\n",
    "}\n",
    "\n",
    "for name, model in models.items():\n",
    "    print(f\"\\nModel: {name}\")\n",
    "    model.fit(X_train, y_train)\n",
    "    y_pred = model.predict(X_test)\n",
    "    print(classification_report(y_test, y_pred, target_names=le.classes_))\n"
   ]
  },
  {
   "cell_type": "markdown",
   "id": "82b8e6bc-4db4-4024-9b86-2a40fe6ec351",
   "metadata": {},
   "source": [
    "# Predikcija modela"
   ]
  },
  {
   "cell_type": "code",
   "execution_count": 23,
   "id": "d889800b-e2d0-4a1d-ad72-08191878fcd3",
   "metadata": {},
   "outputs": [],
   "source": [
    "new_product = [\"samsung galaxy s21 ultra 5g 128gb phantom black\"]"
   ]
  },
  {
   "cell_type": "code",
   "execution_count": 24,
   "id": "46e04510-e7fb-4c7b-9e1e-588bdd6c9059",
   "metadata": {},
   "outputs": [],
   "source": [
    "new_product_vectorized = vectorizer.transform(new_product)"
   ]
  },
  {
   "cell_type": "code",
   "execution_count": 27,
   "id": "4d56d377-fda0-4b59-937b-b8a847c0d11b",
   "metadata": {},
   "outputs": [
    {
     "name": "stdout",
     "output_type": "stream",
     "text": [
      "Logistic Regression: Mobile Phones\n",
      "Multinomial NB: Mobile Phones\n",
      "Linear SVC: Mobile Phones\n"
     ]
    }
   ],
   "source": [
    "for name, model in models.items():\n",
    "    pred = model.predict(new_product_vectorized)\n",
    "    print(f\"{name}: {pred[0]}\")\n"
   ]
  }
 ],
 "metadata": {
  "kernelspec": {
   "display_name": "Python 3 (ipykernel)",
   "language": "python",
   "name": "python3"
  },
  "language_info": {
   "codemirror_mode": {
    "name": "ipython",
    "version": 3
   },
   "file_extension": ".py",
   "mimetype": "text/x-python",
   "name": "python",
   "nbconvert_exporter": "python",
   "pygments_lexer": "ipython3",
   "version": "3.9.7"
  }
 },
 "nbformat": 4,
 "nbformat_minor": 5
}
